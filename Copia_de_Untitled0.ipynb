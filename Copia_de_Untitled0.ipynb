{
  "nbformat": 4,
  "nbformat_minor": 0,
  "metadata": {
    "colab": {
      "name": "Copia de Untitled0.ipynb",
      "provenance": [],
      "authorship_tag": "ABX9TyOL6rxttjkTVD6G6pmlR5NP",
      "include_colab_link": true
    },
    "kernelspec": {
      "name": "python3",
      "display_name": "Python 3"
    },
    "language_info": {
      "name": "python"
    }
  },
  "cells": [
    {
      "cell_type": "markdown",
      "metadata": {
        "id": "view-in-github",
        "colab_type": "text"
      },
      "source": [
        "<a href=\"https://colab.research.google.com/github/MarioC23/Creando-usuarios-y-grupos/blob/main/Copia_de_Untitled0.ipynb\" target=\"_parent\"><img src=\"https://colab.research.google.com/assets/colab-badge.svg\" alt=\"Open In Colab\"/></a>"
      ]
    },
    {
      "cell_type": "code",
      "execution_count": null,
      "metadata": {
        "id": "VDQrhpXoqH6L"
      },
      "outputs": [],
      "source": [
        "import tensorflow as tf\n",
        "import numpy as np"
      ]
    },
    {
      "cell_type": "code",
      "source": [
        "celsius = np.array([-35,-15,-5,0,6,10,22,340], dtype=float)\n",
        "fahrenheit = np.array([-31,5,23,32,42.8,50,71.6,93.2], dtype=float)\n",
        "\n"
      ],
      "metadata": {
        "id": "uWfkfoQsqZsb"
      },
      "execution_count": null,
      "outputs": []
    },
    {
      "cell_type": "code",
      "source": [
        "capa = tf.keras.layers.Dense(units=1, input_shape=[1])\n",
        "modelo = tf.keras.Sequential([capa])\n"
      ],
      "metadata": {
        "id": "jpiByEBPsPnU"
      },
      "execution_count": null,
      "outputs": []
    },
    {
      "cell_type": "code",
      "source": [
        "modelo.compile(\n",
        "    optimizer = tf.keras.optimizers.Adam(0.1),\n",
        "    loss='mean_squared_error')"
      ],
      "metadata": {
        "id": "OIHg7btktpT_"
      },
      "execution_count": null,
      "outputs": []
    },
    {
      "cell_type": "code",
      "source": [
        "print(\"vas a comenzar tu entrenamaiento en la habitacion del tiempo :D \")\n",
        "historial = modelo.fit(celsius, fahrenheit, epochs=600, verbose=False)\n",
        "print(\"has terminado tu entrenamiento XD\")"
      ],
      "metadata": {
        "colab": {
          "base_uri": "https://localhost:8080/"
        },
        "id": "fgrsTtLpt9fT",
        "outputId": "2ad5535c-b879-4bc6-ad2f-53545fafb5ac"
      },
      "execution_count": null,
      "outputs": [
        {
          "output_type": "stream",
          "name": "stdout",
          "text": [
            "vas a comenzar tu entrenamaiento en la habitacion del tiempo :D \n",
            "has terminado tu entrenamiento XD\n"
          ]
        }
      ]
    },
    {
      "cell_type": "code",
      "source": [
        "import matplotlib.pyplot as plt\n",
        "plt.xlabel(\"Cantidad de interacion\")\n",
        "plt.ylabel(\"Pérdida\")\n",
        "plt.plot(historial.history[\"loss\"])"
      ],
      "metadata": {
        "colab": {
          "base_uri": "https://localhost:8080/",
          "height": 300
        },
        "id": "nJtkliDzv0dY",
        "outputId": "a51bbdc5-dd87-44ff-925f-f7697f99ea9b"
      },
      "execution_count": null,
      "outputs": [
        {
          "output_type": "execute_result",
          "data": {
            "text/plain": [
              "[<matplotlib.lines.Line2D at 0x7f009102f6d0>]"
            ]
          },
          "metadata": {},
          "execution_count": 22
        },
        {
          "output_type": "display_data",
          "data": {
            "text/plain": [
              "<Figure size 432x288 with 1 Axes>"
            ],
            "image/png": "[encoded data removed]"
          },
          "metadata": {
            "needs_background": "light"
          }
        }
      ]
    },
    {
      "cell_type": "code",
      "source": [
        "print(\"Hay que predecir algo\")\n",
        "resultado = modelo.predict([100])\n",
        "print(\"El resultado de tu IA es\" + str(resultado) + \"fahrenheit\")\n"
      ],
      "metadata": {
        "colab": {
          "base_uri": "https://localhost:8080/"
        },
        "id": "_IRa1NgcwgYP",
        "outputId": "de45556d-9ff7-4db1-a59d-4b108ca56081"
      },
      "execution_count": null,
      "outputs": [
        {
          "output_type": "stream",
          "name": "stdout",
          "text": [
            "Hay que predecir algo\n",
            "El resultado de tu IA es[[49.072098]]fahrenheit\n"
          ]
        }
      ]
    }
  ]
}